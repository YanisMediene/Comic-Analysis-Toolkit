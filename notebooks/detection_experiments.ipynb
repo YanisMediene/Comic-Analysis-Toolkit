{
 "cells": [
  {
   "cell_type": "code",
   "execution_count": null,
   "metadata": {
    "vscode": {
     "languageId": "plaintext"
    }
   },
   "outputs": [],
   "source": [
    "# Example notebook cell\n",
    "import cv2\n",
    "from detection.panel_detection import detect_panels\n",
    "\n",
    "image_path = \"data/raw/example_comic.jpg\"\n",
    "detections = detect_panels(image_path, \"data/models/yolo_model.pth\")\n",
    "print(detections)"
   ]
  }
 ],
 "metadata": {
  "language_info": {
   "name": "python"
  }
 },
 "nbformat": 4,
 "nbformat_minor": 2
}
